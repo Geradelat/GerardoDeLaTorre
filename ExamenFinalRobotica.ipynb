{
  "nbformat": 4,
  "nbformat_minor": 0,
  "metadata": {
    "colab": {
      "name": "ExamenFinalRobotica.ipynb",
      "provenance": [],
      "collapsed_sections": []
    },
    "kernelspec": {
      "name": "python3",
      "display_name": "Python 3"
    }
  },
  "cells": [
    {
      "cell_type": "markdown",
      "metadata": {
        "id": "P8QcDcyGgPJm",
        "colab_type": "text"
      },
      "source": [
        "Examen \n",
        "Lea cuidadosamente las siguientes indicaciones antes de comenzar el examen:\n",
        "\n",
        "Para resolver el examen edite este mismo archivo y renómbrelo de la siguiente manera: Examen1_ApellidoNombre, donde ApellidoNombre corresponde a su apellido paterno con la inicial en mayúscula, seguido de su primer nombre con la inicial en mayúscula sin acentos. Por ejemplo, en mi caso el nombre del archivo sería Examen1_LopezMichel.\n",
        "Resuelva los puntos en el espacio provisto. Si requiere agregar más celdas para código o escritura, hágalo.\n",
        "Recuerde que también se está evaluando su capacidad de interpretar los resultados. Escriba sus interpretaciones/conclusiones en celdas utilizando Markdown.\n",
        "No se resuelven dudas de ningún tipo por los profesores de la asignatura. Por favor, absténgase de preguntar.\n",
        "- El formato de presentación de todo el examen en general debe ser adecuado. Use tamaños de letra, colores, etiquetas, etcétera."
      ]
    },
    {
      "cell_type": "code",
      "metadata": {
        "id": "JrffDNZHgRPm",
        "colab_type": "code",
        "colab": {}
      },
      "source": [
        "%matplotlib inline \n",
        " \n",
        "import sympy as sym\n",
        "import numpy as np\n",
        "import matplotlib.pylab as plt\n",
        " \n",
        "from sympy import init_printing; init_printing(use_latex='mathjax')\n",
        "from IPython.display import display\n",
        "from IPython.display import HTML\n",
        "from scipy.integrate import odeint\n",
        " \n",
        "from sympy import *\n",
        "from scipy.optimize import linprog\n",
        " \n",
        " \n",
        "from ipywidgets import *\n",
        " \n",
        "Ley_Newton_enfriamiento='<iframe src=https://es.wikipedia.org/wiki/Ley_del_enfriamiento_de_Newton?useformat=mobile width=700 height=350></iframe>'\n",
        "Torricelli='<iframe src=https://en.wikipedia.org/wiki/Torricelli%27s_law?useformat=mobile width=700 height=350></iframe>'\n",
        "Caidalibre ='<iframe src=https://es.wikipedia.org/wiki/Ca%C3%ADda_libre?useformat=mobile width=700 height=350></iframe>'\n",
        " \n",
        "sym.var('k t x')\n",
        " \n",
        "T = sym.Function('T')"
      ],
      "execution_count": 0,
      "outputs": []
    },
    {
      "cell_type": "markdown",
      "metadata": {
        "id": "9bAWPZ3zgYNy",
        "colab_type": "text"
      },
      "source": [
        "Problema 1 \n",
        "¿Cuánto esperar para tomar el café?\n",
        "Primero calentamos el agua a 80°𝐶. Posteriormente agregamos café al vaso con el agua caliente. Después realizamos la medición de la temperatura ambiente, la cual fue de 24°𝐶. Realiza las siguientes actividades: ]\n",
        "\n",
        "(20 puntos) Simula el sistema en un tiempo de 0 a 120 unidades de tiempo con una constante de proporcionalidad 𝑘=−0.0565,\n",
        "(15 puntos)\n",
        "(10 puntos) Grafique la solución.\n",
        "(5 puntos) Supoga que cada unidad de tiempo corresponde a un minuto. ¿En que tiempo aproximadamente la temperatura es menor a 30°𝐶?\n",
        "(15 puntos)\n",
        "(10 puntos) ¿Qué interpretación puedes decir para valores de 𝑘>0?\n",
        "(5 puntos) Busca una constante de proporcionalidad 𝑘 en un rango ( de −0.2 a 0.2 con incremento de 0.01), para la cual el cafe tiene una temperatura menor de 30°𝐶 en un tiempo a 20 minutos.\n"
      ]
    },
    {
      "cell_type": "code",
      "metadata": {
        "id": "oHDuCWHjgSCX",
        "colab_type": "code",
        "outputId": "45ea3b2a-3cba-4383-b469-36f5004aec9d",
        "colab": {
          "base_uri": "https://localhost:8080/",
          "height": 279
        }
      },
      "source": [
        "#respuesta a al problema 1, inciso 1 y 2\n",
        "import matplotlib.pyplot as plt\n",
        "import numpy as np\n",
        "from scipy import integrate\n",
        " \n",
        "def f_T(k,t):\n",
        "    return 56*np.exp(k*t) + 24\n",
        " \n",
        "def f_t(k,T):\n",
        "    return ln((T-24)/56)/k\n",
        " \n",
        "k = -0.0565\n",
        "t = np.linspace(0,120,120)\n",
        " \n",
        "#print(f_t(k,35))\n",
        "fig, axes=plt.subplots()\n",
        "#axes.plot(k,sol,'--')\n",
        "axes.plot(t,f_T(k,t))\n",
        "axes.plot([0,f_t(k,29.99)],[29.99,29.99],'--')\n",
        "axes.text(f_t(k,29.99),29.99,str(f_t(k,29.99)))\n",
        "plt.xlabel('Tiempo(min)')\n",
        "plt.ylabel('Temperatura(C°)')\n",
        "plt.show()"
      ],
      "execution_count": 0,
      "outputs": [
        {
          "output_type": "display_data",
          "data": {
            "image/png": "[encoded data removed]",
            "text/plain": [
              "<Figure size 432x288 with 1 Axes>"
            ]
          },
          "metadata": {
            "tags": [],
            "needs_background": "light"
          }
        }
      ]
    },
    {
      "cell_type": "code",
      "metadata": {
        "id": "eOW6fr7hgoNL",
        "colab_type": "code",
        "outputId": "cc72f36f-30f0-4d57-f49d-d5cde158d38c",
        "colab": {
          "base_uri": "https://localhost:8080/",
          "height": 522
        }
      },
      "source": [
        "#Respuetsa al problema 1, inciso 3\n",
        "k = 0.0565\n",
        "fig, axes=plt.subplots()\n",
        "axes.plot(t,f_T(k,t))\n",
        "plt.xlabel('Tiempo(min)')\n",
        "plt.ylabel('Temperatura(C°)')\n",
        "plt.show()\n",
        "print(\"¿Qué interpetación puedes decir para valores de k>0: \\nPuedo decir que el café nunca se enfriará, este continuara calentandose con el paso del tiempo.\")\n",
        "k = np.linspace(-0.2,0.2,40)\n",
        " \n",
        "print('\\nPosibles Valores de k que cumplen con el requisito de una temperatura menor a 30C° después de 20 minutos:\\n')\n",
        "for x in k:\n",
        "    if f_T(x,20) < 30:\n",
        "        print('temperatura(C°):',f_T(x,20),'\\tValor de K:',x)"
      ],
      "execution_count": 0,
      "outputs": [
        {
          "output_type": "display_data",
          "data": {
            "image/png": "[encoded data removed]",
            "text/plain": [
              "<Figure size 432x288 with 1 Axes>"
            ]
          },
          "metadata": {
            "tags": [],
            "needs_background": "light"
          }
        },
        {
          "output_type": "stream",
          "text": [
            "¿Qué interpetación puedes decir para valores de k>0: \n",
            "Puedo decir que el café nunca se enfriará, este continuara calentandose con el paso del tiempo.\n",
            "\n",
            "Posibles Valores de k que cumplen con el requisito de una temperatura menor a 30C° después de 20 minutos:\n",
            "\n",
            "temperatura(C°): 25.025675777769113 \tValor de K: -0.2\n",
            "temperatura(C°): 25.259204151818864 \tValor de K: -0.18974358974358976\n",
            "temperatura(C°): 25.545902838230806 \tValor de K: -0.1794871794871795\n",
            "temperatura(C°): 25.897877783994026 \tValor de K: -0.16923076923076924\n",
            "temperatura(C°): 26.329991247768376 \tValor de K: -0.158974358974359\n",
            "temperatura(C°): 26.860489363678823 \tValor de K: -0.14871794871794874\n",
            "temperatura(C°): 27.511772590372015 \tValor de K: -0.13846153846153847\n",
            "temperatura(C°): 28.31134157780174 \tValor de K: -0.12820512820512822\n",
            "temperatura(C°): 29.29295839128153 \tValor de K: -0.11794871794871796\n"
          ],
          "name": "stdout"
        }
      ]
    },
    {
      "cell_type": "markdown",
      "metadata": {
        "id": "piZiLhfrgtiW",
        "colab_type": "text"
      },
      "source": [
        "Problema 2 \n",
        "¿Cuánto esperar para comenzar a comer pastel?\n",
        "Al sacar un pastel del horno, su temperatura es 280°𝐶. Después de 3 minutos, 2𝑂𝑂°𝐶. ¿En cuanto tiempo se enfriará hasta la temperatura ambiente de 28°𝐶? Realiza las siguientes actividades:\n",
        "\n",
        "(20 puntos) Simula el sistema en un tiempo de 0 a 60 unidades de tiempo con una constante de proporcionalidad 𝑘=−0.14518,\n",
        "(15 puntos)\n",
        "(10 puntos) Grafique la solución.\n",
        "(5 puntos) Supoga que cada unidad de tiempo corresponde a un minuto. ¿En que tiempo aproximadamente la temperatura es menor a 150°𝐶?\n",
        "(15 puntos)\n",
        "(10 puntos) ¿Qué interpretación puedes decir para valores de 𝑘>0?\n",
        "(5 puntos) Busca una constante de proporcionalidad 𝑘 en un rango ( de −0.2 a 0.2 con incremento de 0.01), para la cual el pastel se puede comer a una temperatura menor a 50°𝐶 en un tiempo a 10 minutos."
      ]
    },
    {
      "cell_type": "code",
      "metadata": {
        "id": "71defwEqguYy",
        "colab_type": "code",
        "outputId": "122d3e13-f59a-4350-8639-87b54d30094c",
        "colab": {
          "base_uri": "https://localhost:8080/",
          "height": 279
        }
      },
      "source": [
        "#respuesta a al problema 2, inciso 1 y 2\n",
        "import matplotlib.pyplot as plt\n",
        "import numpy as np\n",
        "from scipy import integrate\n",
        "\n",
        "def fder(k,T):\n",
        "    return k(T-28)\n",
        "\n",
        "def f_T(k,t):\n",
        "    return 252*np.exp(k*t) + 28\n",
        "\n",
        "def f_t(k,T):\n",
        "    return ln((T-28)/252)/k\n",
        "\n",
        "k = -0.14518\n",
        "t = np.linspace(0,60,60)\n",
        "\n",
        "#print(f_t(k,35))\n",
        "fig, axes=plt.subplots()\n",
        "#axes.plot(k,sol,'--')\n",
        "axes.plot(t,f_T(k,t))\n",
        "axes.plot([0,f_t(k,149.99)],[149.99,149.99],'--')\n",
        "axes.text(f_t(k,149.99),149.99,str(f_t(k,149.99)))\n",
        "plt.xlabel('Tiempo(min)')\n",
        "plt.ylabel('Temperatura(C°)')\n",
        "plt.show()"
      ],
      "execution_count": 0,
      "outputs": [
        {
          "output_type": "display_data",
          "data": {
            "image/png": "[encoded data removed]",
            "text/plain": [
              "<Figure size 432x288 with 1 Axes>"
            ]
          },
          "metadata": {
            "tags": [],
            "needs_background": "light"
          }
        }
      ]
    },
    {
      "cell_type": "code",
      "metadata": {
        "id": "dDQpwLedgw3W",
        "colab_type": "code",
        "outputId": "54dd338a-5184-427a-b03e-56d202be6a35",
        "colab": {
          "base_uri": "https://localhost:8080/",
          "height": 397
        }
      },
      "source": [
        "#Respuetsa al problema 2, inciso 3\n",
        "k = 0.14518\n",
        "fig, axes=plt.subplots()\n",
        "axes.plot(t,f_T(k,t))\n",
        "plt.xlabel('Tiempo(min)')\n",
        "plt.ylabel('Temperatura(C°)')\n",
        "plt.show()\n",
        "print(\"¿Qué interpetación puedes decir para valores de k>0: \\nPuedo concluir que el pastel nunca se enfriará, este continuara calentandose con el paso del tiempo.\")\n",
        "k = np.linspace(-0.2,0.2,40)\n",
        "\n",
        "print('\\nPosibles Valores de k que cumplen con el requisito de una temperatura menor a 50C° depués de 10 minutos:')\n",
        "for x in k:\n",
        "    if f_T(x,10) <= 50:\n",
        "        print('temperatura(C°):',f_T(x,10),'\\tValor de K:',x)\n",
        "\n",
        "print('No existen valores de k entre -0.2 y 0.2 que cumplan con los requisitos. Para un valor de k=0.2 la temperatura nos da de 62.10C°, siendo este valor la mejor opción que se acerca a los requisitos pedidos.')"
      ],
      "execution_count": 0,
      "outputs": [
        {
          "output_type": "display_data",
          "data": {
            "image/png": "[encoded data removed]",
            "text/plain": [
              "<Figure size 432x288 with 1 Axes>"
            ]
          },
          "metadata": {
            "tags": [],
            "needs_background": "light"
          }
        },
        {
          "output_type": "stream",
          "text": [
            "¿Qué interpetación puedes decir para valores de k>0: \n",
            "Puedo concluir que el pastel nunca se enfriará, este continuara calentandose con el paso del tiempo.\n",
            "\n",
            "Posibles Valores de k que cumplen con el requisito de una temperatura menor a 50C° depués de 10 minutos:\n",
            "No existen valores de k entre -0.2 y 0.2 que cumplan con los requisitos. Para un valor de k=0.2 la temperatura nos da de 62.10C°, siendo este valor la mejor opción que se acerca a los requisitos pedidos.\n"
          ],
          "name": "stdout"
        }
      ]
    },
    {
      "cell_type": "markdown",
      "metadata": {
        "id": "-vUbo84Qg6bU",
        "colab_type": "text"
      },
      "source": [
        "Segundo punto.\n",
        "Introducción al problema.\n",
        "Caída libre\n",
        "En la caída libre ideal, se desprecia la resistencia aerodinámica que presenta el aire al movimiento del cuerpo, analizando lo que pasaría en el vacío. En esas condiciones, la aceleración que adquiriría el cuerpo sería debida exclusivamente a la gravedad, siendo independiente de su masa.\n",
        "\n",
        "𝑑𝑠𝑑𝑡𝑑𝑣𝑑𝑡==𝑣−𝑔\n",
        "O visto el sistema en forma canónica\n",
        "\n",
        "𝑥˙1𝑥˙2==𝑥2−𝑔"
      ]
    },
    {
      "cell_type": "markdown",
      "metadata": {
        "id": "Ha3WORiog9Hy",
        "colab_type": "text"
      },
      "source": [
        "Problema 3 \n",
        "Deja caer una pelota\n",
        "Desde un edificio de altura de 314 metros se deja caer una pelota, que tarda 8 segundos en llegar al piso. ¿con que velocidad impacta la pelota contra el piso?\n",
        "\n",
        "(20 puntos) Simula el sistema en un tiempo de 0 a 8 unidades de tiempo con una constante de gravedad 𝑔=−9.8,\n",
        "(15 puntos)\n",
        "(10 puntos) Grafique la solución.\n",
        "(5 puntos) Supoga que cada unidad de tiempo corresponde a un segundo. ¿En que tiempo aproximadamente la pelota esta a la mitad del edificio?\n",
        "(15 puntos)\n",
        "(10 puntos) ¿Qué interpretación puedes decir para una posicion inicial de 314𝑚 y una velocidad de 30𝑚/𝑠 ?\n",
        "(5 puntos) ¿Que altura aproximadamente tendra en 10𝑠 para el incisio anterior?"
      ]
    },
    {
      "cell_type": "code",
      "metadata": {
        "id": "P0Z0Mc4GhAd1",
        "colab_type": "code",
        "outputId": "9d303a1d-094b-4d34-e862-bbf69df79177",
        "colab": {
          "base_uri": "https://localhost:8080/",
          "height": 541
        }
      },
      "source": [
        "#Inciso 1 y 2\n",
        "import matplotlib.pyplot as plt\n",
        "import numpy as np\n",
        "from scipy import integrate\n",
        "\n",
        "def velocity(g,h):\n",
        "    return np.sqrt(2*g*h)\n",
        "\n",
        "def time(g,h):\n",
        "    return np.sqrt((2*h)/g)\n",
        "\n",
        "\n",
        "g= 9.8\n",
        "h=np.linspace(0,314,314)\n",
        "vo= 30\n",
        "t = np.linspace(0,8,8)\n",
        "tf = np.linspace(0,10,10)\n",
        "\n",
        "fig, axes=plt.subplots()\n",
        "axes.plot(time(g,h),velocity(g,h))\n",
        "plt.xlabel('Tiempo(seg)')\n",
        "plt.ylabel('Velocidad(m/s^2)')\n",
        "plt.show()\n",
        "\n",
        "fig, axes=plt.subplots()\n",
        "axes.plot(time(g,h),h)\n",
        "axes.plot([0,time(g,157)],[157,157])\n",
        "axes.text(time(g,157),157,str(time(g,157)))\n",
        "plt.xlabel('Tiempo(seg)')\n",
        "plt.ylabel('Distancia(m)')\n",
        "plt.show()"
      ],
      "execution_count": 0,
      "outputs": [
        {
          "output_type": "display_data",
          "data": {
            "image/png": "[encoded data removed]",
            "text/plain": [
              "<Figure size 432x288 with 1 Axes>"
            ]
          },
          "metadata": {
            "tags": [],
            "needs_background": "light"
          }
        },
        {
          "output_type": "display_data",
          "data": {
            "image/png": "[encoded data removed]",
            "text/plain": [
              "<Figure size 432x288 with 1 Axes>"
            ]
          },
          "metadata": {
            "tags": [],
            "needs_background": "light"
          }
        }
      ]
    },
    {
      "cell_type": "code",
      "metadata": {
        "id": "ke3tjsCsaljD",
        "colab_type": "code",
        "outputId": "3dbaac01-92cc-4421-b0e5-9443271e8d5b",
        "colab": {
          "base_uri": "https://localhost:8080/",
          "height": 103
        }
      },
      "source": [
        "# Solucion opcion 3\n",
        "print(\"¿Qué interpretación puedes decir para una posicion inicial de 314𝑚 y una velocidad de 30𝑚/𝑠? \\nEn ese caso se tendria un tiro vertical para considerar una altura y velocidad inicial distintas a cero.\")\n",
        "\n",
        "print(\"\\n¿Que altura aproximadamente tendra en 10𝑠 para el incisio anterior?\")\n",
        "h= 314+(vo*10)-(g*10**2)/2\n",
        "print(h,\"m\")\n"
      ],
      "execution_count": 0,
      "outputs": [
        {
          "output_type": "stream",
          "text": [
            "¿Qué interpretación puedes decir para una posicion inicial de 314𝑚 y una velocidad de 30𝑚/𝑠? \n",
            "En ese caso se tendria un tiro vertical para considerar una altura y velocidad inicial distintas a cero.\n",
            "\n",
            "¿Que altura aproximadamente tendra en 10𝑠 para el incisio anterior?\n",
            "123.99999999999994 m\n"
          ],
          "name": "stdout"
        }
      ]
    },
    {
      "cell_type": "markdown",
      "metadata": {
        "id": "qHV8-BAUhA1P",
        "colab_type": "text"
      },
      "source": [
        "Tercer punto.\n",
        "Introducción al problema.\n",
        "Drenado de un tanque (Ley de Torricelli)\n",
        "En hidrodinámica, la ley de Torricelli establece que la velocidad 𝑣 de flujo de salida de agua a través de un orificio plano ubicado en la parte inferior de un tanque lleno hasta una altura ℎ será igual a la velocidad que un cuerpo (en este caso una gota de agua) adquiriría en caída libre desde una altura ℎ; es decir, 𝑣=2𝑔ℎ⎯⎯⎯⎯⎯⎯√, donde 𝑔 es la aceleración debida a la gravedad.\n",
        "\n",
        "Suponga que un tanque lleno de agua puede drenar mediante un orificio bajo la influencia de la gravedad. Deseamos encontrar la altura ℎ del agua restante en el tanque en el tiempo 𝑡.\n",
        "\n",
        "Si el área del orificio es 𝐴ℎ (en 𝑚2) y la velocidad del agua que sale del tanque es 𝑣=2𝑔ℎ⎯⎯⎯⎯⎯⎯√ (en m/s), entonces el volumen del agua que abandona el tanque por segundo es 𝐴ℎ2𝑔ℎ⎯⎯⎯⎯⎯⎯√ (en 𝑚3/s). De este modo, si 𝑉(𝑡) indica el volumen del agua que hay en el tanque en el tiempo 𝑡, la ecuación diferencial deseada para la altura del agua en el tiempo t:\n",
        "\n",
        "𝑑ℎ𝑑𝑡=−𝐴ℎ𝐴𝑤2𝑔ℎ⎯⎯⎯⎯⎯⎯√\n",
        "Donde 𝐴𝑤 (en 𝑚2) representa el área constante de la superficie superior del agua.\n",
        "\n",
        "Observe que aquí ignoramos la posibilidad de fricción en el orificio, la cual puede ocasionar una reducción en la velocidad del flujo en dicho lugar"
      ]
    },
    {
      "cell_type": "markdown",
      "metadata": {
        "id": "3hK0BG8GhFN2",
        "colab_type": "text"
      },
      "source": [
        "Problema 4 \n",
        "Drenado de un tanque\n",
        "Concidere un cilindro circular con un área constante de 𝐴𝑤=5𝑚2, en la parte inferior contiene un orificio de área 𝐴ℎ=1𝑚2 el cual podemos estar regulando la salida del liquido. En el interior del tanque se encuentra un liquido el cual tiene una altura inicial en el tiempo 0 de ℎ(0)=10𝑚. Realiza las siguientes actividades:\n",
        "\n",
        "(20 puntos) Simula el sistema en un tiempo de 0 a 6.5 unidades de tiempo,\n",
        "(15 puntos)\n",
        "(10 puntos) Grafique la solución.\n",
        "(5 puntos) Supoga que cada unidad de tiempo corresponde a un minuto. ¿En que tiempo aproximadamente la altura del liquido alcanza una altura de ℎ=2𝑚?\n",
        "(15 puntos)\n",
        "(10 puntos) ¿Qué interpretación puedes decir si el signo de la ecuación fuera positivo?\n",
        "(5 puntos) ¿Si el área del orificio 𝐴ℎ es menor a 1𝑚2 que implicaria? Realiza una simulacion y grafica la solución para un orificio de 𝐴ℎ=.5𝑚"
      ]
    },
    {
      "cell_type": "code",
      "metadata": {
        "id": "w9j_ZTZkhH8l",
        "colab_type": "code",
        "outputId": "b4bf3f9f-b4ba-4e14-a00a-246ec0c1d8ee",
        "colab": {
          "base_uri": "https://localhost:8080/",
          "height": 351
        }
      },
      "source": [
        "#Respuesta inciso 1 y 2\n",
        "import matplotlib.pyplot as plt\n",
        "import numpy as np\n",
        "from scipy.integrate import odeint\n",
        "%matplotlib inline\n",
        "def tanque(Ah, Aw, h0):\n",
        "    g = 9.81\n",
        "    def velocidad(h,t):\n",
        "        return -(Ah/Aw)*np.sqrt(2*g*h)\n",
        "    t = np.linspace(0,6.5)\n",
        "    h_t = odeint(velocidad,h0,t)\n",
        "    \n",
        "    plt.plot(t,h_t)\n",
        "    plt.xlabel('time (min)')\n",
        "    plt.ylabel('height (mts)')\n",
        "    plt.grid()\n",
        "    plt.show()\n",
        "tanque(1,5,10)\n",
        "print(\"Con las condiciones dadas, podemos deducir que la altura será de 2 metros cuando el tiempo sea aproximadamente 4 minutos.\")\n",
        "\n",
        "\n"
      ],
      "execution_count": 0,
      "outputs": [
        {
          "output_type": "stream",
          "text": [
            "/usr/local/lib/python3.6/dist-packages/ipykernel_launcher.py:9: RuntimeWarning: invalid value encountered in sqrt\n",
            "  if __name__ == '__main__':\n"
          ],
          "name": "stderr"
        },
        {
          "output_type": "display_data",
          "data": {
            "image/png": "[encoded data removed]",
            "text/plain": [
              "<Figure size 432x288 with 1 Axes>"
            ]
          },
          "metadata": {
            "tags": [],
            "needs_background": "light"
          }
        },
        {
          "output_type": "stream",
          "text": [
            "Con las condiciones dadas, podemos deducir que la altura será de 2 metros cuando el tiempo sea aproximadamente 4 minutos.\n"
          ],
          "name": "stdout"
        }
      ]
    },
    {
      "cell_type": "code",
      "metadata": {
        "id": "KB5BTU6EbvHD",
        "colab_type": "code",
        "outputId": "f5533cb6-9f85-4f5b-888a-948e6864fd28",
        "colab": {
          "base_uri": "https://localhost:8080/",
          "height": 595
        }
      },
      "source": [
        "#Respuesta inciso 3\n",
        "def tanquePositivo(Ah, Aw, h0):\n",
        "    g = 9.81\n",
        "    def velocidad(h,t):\n",
        "        return (Ah/Aw)*np.sqrt(2*g*h)\n",
        "    t = np.linspace(0,6.5)\n",
        "    h_t = odeint(velocidad,h0,t)\n",
        "    \n",
        "    plt.plot(t,h_t)\n",
        "    plt.xlabel('time (min)')\n",
        "    plt.ylabel('height (mts)')\n",
        "    plt.grid()\n",
        "    plt.show()\n",
        "tanquePositivo(1,5,10)\n",
        "print(\"Al cambiar el signo de la función del flujo volumétrico podemos interpretar que en vez de perder volumen a través del tiempo se estará ganando volumen.\")\n",
        "\n",
        "tanque(0.5,5,10)\n",
        "print(\"Al hacer el horificio más pequeño podemos observar que el vaciado del tanque será más lento.\")\n"
      ],
      "execution_count": 0,
      "outputs": [
        {
          "output_type": "display_data",
          "data": {
            "image/png": "[encoded data removed]",
            "text/plain": [
              "<Figure size 432x288 with 1 Axes>"
            ]
          },
          "metadata": {
            "tags": [],
            "needs_background": "light"
          }
        },
        {
          "output_type": "stream",
          "text": [
            "Al cambiar el signo de la función del flujo volumétrico podemos interpretar que en vez de perder volumen a través del tiempo se estará ganando volumen.\n"
          ],
          "name": "stdout"
        },
        {
          "output_type": "display_data",
          "data": {
            "image/png": "[encoded data removed]",
            "text/plain": [
              "<Figure size 432x288 with 1 Axes>"
            ]
          },
          "metadata": {
            "tags": [],
            "needs_background": "light"
          }
        },
        {
          "output_type": "stream",
          "text": [
            "Al hacer el horificio más pequeño podemos observar que el vaciado del tanque será más lento.\n"
          ],
          "name": "stdout"
        }
      ]
    },
    {
      "cell_type": "markdown",
      "metadata": {
        "id": "YfUNRPtshIOt",
        "colab_type": "text"
      },
      "source": [
        "Problema 5 \n",
        "Modelo poblacional\n",
        "Simula la siguiente ecuación, y supoga que cada unidad de tiempo corresponde a un minuto.\n",
        "\n",
        "𝑑𝑠𝑑𝑡=0.05𝑠(𝑠20−1)(1−𝑠100)\n",
        "(20 puntos) Simula el sistema en un tiempo de 0 a 200 unidades de tiempo, con la condición inicial 𝑠(0)=21\n",
        "(15 puntos)\n",
        "(10 puntos) Grafique la solución.\n",
        "(5 puntos) ¿En que tiempo aproximadamente la poblacion alcanza su maxima capacidad?\n",
        "(15 puntos)\n",
        "(5 puntos) ¿Cual es la capacidad de soporte de este modelo poblacional?\n",
        "(10 puntos) ¿Que pasa con una condición inicial menor (s(0)=21) ? ¿Y con una condición mayor a la capacidad de soporte?"
      ]
    },
    {
      "cell_type": "code",
      "metadata": {
        "id": "VO9WWkmwhK7x",
        "colab_type": "code",
        "outputId": "5214efc0-118e-40cf-8d2d-f6adce464fa0",
        "colab": {
          "base_uri": "https://localhost:8080/",
          "height": 332
        }
      },
      "source": [
        "#Respuesta inciso 1 y 2\n",
        "import matplotlib.pyplot as plt\n",
        "import numpy as np\n",
        "from scipy.integrate import odeint\n",
        "%matplotlib inline\n",
        "def poblacion(s0,title):\n",
        "    def crecimiento(s,t):\n",
        "        return 0.05*s*((s/20)-1)*(1-(s/100))\n",
        "    t = np.linspace(0,200)\n",
        "    s_t = odeint(crecimiento,s0,t)\n",
        "    \n",
        "    plt.plot(t,s_t)\n",
        "    plt.xlabel('time (min)')\n",
        "    plt.ylabel('poblacion')\n",
        "    plt.title(title)\n",
        "    plt.grid()\n",
        "    plt.show()\n",
        "poblacion(21,'Grafica con s0=21')\n",
        "print(\"Viendo la gráfica podemos observar que la población alcanza su máxima capacidad aproximadamente a los 105 minutos.\")"
      ],
      "execution_count": 0,
      "outputs": [
        {
          "output_type": "display_data",
          "data": {
            "image/png": "[encoded data removed]",
            "text/plain": [
              "<Figure size 432x288 with 1 Axes>"
            ]
          },
          "metadata": {
            "tags": [],
            "needs_background": "light"
          }
        },
        {
          "output_type": "stream",
          "text": [
            "Viendo la gráfica podemos observar que la población alcanza su máxima capacidad aproximadamente a los 105 minutos.\n"
          ],
          "name": "stdout"
        }
      ]
    },
    {
      "cell_type": "code",
      "metadata": {
        "id": "zcLMDiqEkrTp",
        "colab_type": "code",
        "outputId": "94191c54-0219-4904-9707-97667409bb59",
        "colab": {
          "base_uri": "https://localhost:8080/",
          "height": 1000
        }
      },
      "source": [
        "#Respuesta inciso 3\n",
        "poblacion(20, 'Prueba con s0 = 20')\n",
        "poblacion(100, 'Prueba con s0 = 100')\n",
        "print(\"Observando la función de creciemiento y haciendo las simulaciones en 20 y 100 nos damos cuenta que el rango de la población que se debería de manejar es entre 20 y 100, dando una capacidad de 80\")\n",
        "poblacion(20.5, 'Prueba 1 con valor s0<21')\n",
        "poblacion(15, 'Prueba 2 con valor s0<21')\n",
        "print('Al dar un valor inicial s0<21 se incrementa el tiempo para llegar a la capacidad máxima, pero si reducimos s0<20 \\nnuestro sistema falla')\n",
        "poblacion(22, 'Prueba 1 con valor s0>21')\n",
        "poblacion(30, 'Prueba 2 con valor s0>21')\n",
        "print('Si incrementamos s0>21 se disminuye el tiempo para llegar a la capacidad máxima, si sobrepasamos s0>100 \\nnuestro sistema falla')"
      ],
      "execution_count": 0,
      "outputs": [
        {
          "output_type": "display_data",
          "data": {
            "image/png": "[encoded data removed]",
            "text/plain": [
              "<Figure size 432x288 with 1 Axes>"
            ]
          },
          "metadata": {
            "tags": [],
            "needs_background": "light"
          }
        },
        {
          "output_type": "display_data",
          "data": {
            "image/png": "[encoded data removed]",
            "text/plain": [
              "<Figure size 432x288 with 1 Axes>"
            ]
          },
          "metadata": {
            "tags": [],
            "needs_background": "light"
          }
        },
        {
          "output_type": "stream",
          "text": [
            "Observando la función de creciemiento y haciendo las simulaciones en 20 y 100 nos damos cuenta que el rango de la población que se debería de manejar es entre 20 y 100, dando una capacidad de 80\n"
          ],
          "name": "stdout"
        },
        {
          "output_type": "display_data",
          "data": {
            "image/png": "[encoded data removed]",
            "text/plain": [
              "<Figure size 432x288 with 1 Axes>"
            ]
          },
          "metadata": {
            "tags": [],
            "needs_background": "light"
          }
        },
        {
          "output_type": "display_data",
          "data": {
            "image/png": "[encoded data removed]",
            "text/plain": [
              "<Figure size 432x288 with 1 Axes>"
            ]
          },
          "metadata": {
            "tags": [],
            "needs_background": "light"
          }
        },
        {
          "output_type": "stream",
          "text": [
            "Al dar un valor inicial s0<21 se incrementa el tiempo para llegar a la capacidad máxima, pero si reducimos s0<20 \n",
            "nuestro sistema falla\n"
          ],
          "name": "stdout"
        },
        {
          "output_type": "display_data",
          "data": {
            "image/png": "[encoded data removed]",
            "text/plain": [
              "<Figure size 432x288 with 1 Axes>"
            ]
          },
          "metadata": {
            "tags": [],
            "needs_background": "light"
          }
        },
        {
          "output_type": "display_data",
          "data": {
            "image/png": "[encoded data removed]",
            "text/plain": [
              "<Figure size 432x288 with 1 Axes>"
            ]
          },
          "metadata": {
            "tags": [],
            "needs_background": "light"
          }
        },
        {
          "output_type": "stream",
          "text": [
            "Si incrementamos s0>21 se disminuye el tiempo para llegar a la capacidad máxima, si sobrepasamos s0>100 \n",
            "nuestro sistema falla\n"
          ],
          "name": "stdout"
        }
      ]
    },
    {
      "cell_type": "markdown",
      "metadata": {
        "id": "DLqxzglghMjF",
        "colab_type": "text"
      },
      "source": [
        "Problema 6 (estabilizar el sistema)\n",
        "Diseña una función 𝑢 diferente de 0, para que el siguiente sistema no crezca, y se aproxime a 0 cuando t -> ∞.\n",
        "\n",
        "𝑑𝑠𝑑𝑡=0.06𝑢\n",
        "(20 puntos) Simula el sistema en un tiempo de 0 a 800 unidades de tiempo, con la condición inicial 𝑠(0)=10\n",
        "(15 puntos)\n",
        "(15 puntos) Grafique la solución.\n",
        "(15 puntos)\n",
        "(15 puntos) Escriba la ecuación de 𝑢 utilizada"
      ]
    },
    {
      "cell_type": "code",
      "metadata": {
        "id": "bTeVMV4jhNDy",
        "colab_type": "code",
        "outputId": "d7b6e462-7c95-4a4d-b323-a0b089e2e05f",
        "colab": {
          "base_uri": "https://localhost:8080/",
          "height": 281
        }
      },
      "source": [
        "import matplotlib.pyplot as plt\n",
        "import numpy as np\n",
        "from scipy.integrate import odeint\n",
        "%matplotlib inline\n",
        "\n",
        "def ds(s0):\n",
        "    def cambio(s,t):\n",
        "        u=-0.027*s*np.sqrt(s*t*0.5)\n",
        "        return 0.06*u\n",
        "    t = np.linspace(0,800)\n",
        "    s_t = odeint(cambio,s0,t)\n",
        "    \n",
        "    plt.plot(t,s_t)\n",
        "    plt.title('Simulación del sistema')\n",
        "    plt.show()\n",
        "    \n",
        "ds(10)"
      ],
      "execution_count": 0,
      "outputs": [
        {
          "output_type": "display_data",
          "data": {
            "image/png": "[encoded data removed]",
            "text/plain": [
              "<Figure size 432x288 with 1 Axes>"
            ]
          },
          "metadata": {
            "tags": [],
            "needs_background": "light"
          }
        }
      ]
    },
    {
      "cell_type": "markdown",
      "metadata": {
        "id": "vCBnocZPhPnc",
        "colab_type": "text"
      },
      "source": [
        "Problema 7 \n",
        "Diseña una función 𝑢 diferente de 0, para que el siguiente sistema no crezca, y se aproxime a 0 cuando t -> ∞.\n",
        "\n",
        "𝑑𝑥𝑑𝑡=2𝑥2+0.06𝑢\n",
        "(20 puntos) Simula el sistema con la condición inicial 𝑥(0)=10\n",
        "(15 puntos)\n",
        "(15 puntos) Grafique la solución.\n",
        "(15 puntos)\n",
        "(15 puntos) Escriba la ecuación de 𝑢 utilizada"
      ]
    },
    {
      "cell_type": "code",
      "metadata": {
        "id": "4JtTcJiqhQQE",
        "colab_type": "code",
        "outputId": "68792af8-8a64-49f1-a418-3476c235dbad",
        "colab": {
          "base_uri": "https://localhost:8080/",
          "height": 281
        }
      },
      "source": [
        "import matplotlib.pyplot as plt\n",
        "import numpy as np\n",
        "from scipy.integrate import odeint\n",
        "%matplotlib inline\n",
        "\n",
        "def dx(x0):\n",
        "    def cambio(x,t):\n",
        "        u=-40*x*np.sqrt(x*t*0.5)\n",
        "        return 2*x*np.exp(2)+0.06*u\n",
        "    t = np.linspace(0,800)\n",
        "    x_t = odeint(cambio,x0,t)\n",
        "    \n",
        "    plt.plot(t,x_t)\n",
        "    plt.title('Simulación del sistema')\n",
        "    plt.show()\n",
        "    \n",
        "dx(10)"
      ],
      "execution_count": 0,
      "outputs": [
        {
          "output_type": "display_data",
          "data": {
            "image/png": "[encoded data removed]",
            "text/plain": [
              "<Figure size 432x288 with 1 Axes>"
            ]
          },
          "metadata": {
            "tags": [],
            "needs_background": "light"
          }
        }
      ]
    },
    {
      "cell_type": "markdown",
      "metadata": {
        "id": "hz8pgt2nhS7g",
        "colab_type": "text"
      },
      "source": [
        "Problema 8 (seguimiento de trayectorias) \n",
        "Diseña una función 𝑢 diferente de 0, para que el siguiente sistema siga una trayectoria.\n",
        "\n",
        "𝑑𝑥𝑑𝑡=2𝑥2+0.06𝑢\n",
        "(20 puntos) Simula el sistema con la condición inicial 𝑥(0)=10\n",
        "(15 puntos)\n",
        "(15 puntos) Grafique la solución siguiendo la funcion de referencia 𝑥𝑟𝑒𝑓=𝑠𝑖𝑛(𝑡)\n",
        "(15 puntos)\n",
        "(15 puntos) Escriba la ecuación de 𝑢 utilizada"
      ]
    },
    {
      "cell_type": "code",
      "metadata": {
        "id": "FI7Ex2d2hTag",
        "colab_type": "code",
        "colab": {}
      },
      "source": [
        ""
      ],
      "execution_count": 0,
      "outputs": []
    },
    {
      "cell_type": "markdown",
      "metadata": {
        "id": "STdC2A8GhWzv",
        "colab_type": "text"
      },
      "source": [
        "Problema 9 \n",
        "Una empresa de transportes gestiona una flota de 60 carros de tres modelos diferentes.\n",
        "\n",
        "Los tipo X generan una media diaria de $15,000 pesos. y recorren diariamente una media de 400 kilómetros.\n",
        "\n",
        "Los tipo Black generan diariamente una media de $10,000 pesos y recorren 300 kilómetros.\n",
        "\n",
        "Los tipo SUV generan diariamente $5,000 pesos y recorren 100 km. de media.\n",
        "\n",
        "Diariamente los carros de la empresa transportan un total de $475 mil pesos y recorren 12500 km. entre todos.\n",
        "\n",
        "¿Cuántos carros gestiona la empresa de cada modelo?"
      ]
    },
    {
      "cell_type": "code",
      "metadata": {
        "id": "uzX8jJ9_hXcG",
        "colab_type": "code",
        "outputId": "5d365916-1aec-4c25-ee6d-f893a90d1c99",
        "colab": {
          "base_uri": "https://localhost:8080/",
          "height": 67
        }
      },
      "source": [
        "import numpy as np\n",
        "\n",
        "a=np.array([[1,1,1],[15000,10000,5000],[400,300,100]])\n",
        "b=np.array([60, 475000,12500])\n",
        "x=np.linalg.solve(a,b)\n",
        "\n",
        "#print(x)\n",
        "\n",
        "print(\"X:\", round(x[0]))\n",
        "print(\"Black:\", round(x[1]))\n",
        "print(\"SUV:\", round(x[2]))"
      ],
      "execution_count": 0,
      "outputs": [
        {
          "output_type": "stream",
          "text": [
            "X: 5.0\n",
            "Black: 25.0\n",
            "SUV: 30.0\n"
          ],
          "name": "stdout"
        }
      ]
    },
    {
      "cell_type": "markdown",
      "metadata": {
        "id": "MaB7TXBZhYHA",
        "colab_type": "text"
      },
      "source": [
        "Problema 10 \n",
        "Ace Novelty recibió un pedido del Magic World Amusement Park de 900 pandas gigantes, 1200 perros San Bernardo y 2000 pájaros grandes. La dirección Ace decidió que 500 pandas, 800 perros y 1300 pájaros pueden ser fabricados en su planta de Los Ángeles, y el resto del pedido podría realizarse en la planta de Seattle.\n",
        "\n",
        "Cada panda requiere 1.5 metros cuadradas de felpa, 30 metros cúbicos de relleno y 5 piezas de adorno; cada perro requiere 2 metros cuadradas de felpa, 35 metros cúbicos de relleno y 8 piezas de adorno, y cada pájaro requiere 2.5 metros cuadrados de felpa, 25 metros cúbicos de relleno y 15 piezas de adorno. La felpa cuesta $4.50 por metro cuadrado, el relleno cuesta $0.20 por metros cúbico y las piezas de adorno cuestan $0.25 por unidad.\n",
        "\n",
        "a. Calcule la cantidad de cada tipo de material que se debe comprar para cada planta.\n",
        "\n",
        "b. ¿Cuál es el costo total de materiales empleados en cada planta y el costo total de los materiales usados por Ace Novelty para cubrir el pedido?\n",
        "\n"
      ]
    },
    {
      "cell_type": "code",
      "metadata": {
        "id": "rpyemvulhaCo",
        "colab_type": "code",
        "colab": {}
      },
      "source": [
        ""
      ],
      "execution_count": 0,
      "outputs": []
    },
    {
      "cell_type": "markdown",
      "metadata": {
        "id": "t8zGDIZAhaUM",
        "colab_type": "text"
      },
      "source": [
        "Problema 10 \n",
        "Aproxima la función exponencial con n=20\n",
        "\n",
        "𝑒𝑥=∑𝑛=020𝑥𝑛𝑛!"
      ]
    },
    {
      "cell_type": "code",
      "metadata": {
        "id": "Uoi5Iei7hePD",
        "colab_type": "code",
        "outputId": "de4c6962-f291-4247-a578-f01896a26b48",
        "colab": {
          "base_uri": "https://localhost:8080/",
          "height": 85
        }
      },
      "source": [
        "import math\n",
        "a=0\n",
        "x=2\n",
        "\n",
        "for i in range(20):\n",
        "    a=a+(x**i)/math.factorial(i)\n",
        "    \n",
        "print(\"Tomando x=2 \\n\")\n",
        "print(\"e^2 =\", math.e**x)\n",
        "print(\"Aproximacion con sumatoria:\", a)"
      ],
      "execution_count": 0,
      "outputs": [
        {
          "output_type": "stream",
          "text": [
            "Tomando x=2 \n",
            "\n",
            "e^2 = 7.3890560989306495\n",
            "Aproximacion con sumatoria: 7.3890560989301735\n"
          ],
          "name": "stdout"
        }
      ]
    },
    {
      "cell_type": "markdown",
      "metadata": {
        "id": "OTbfqSeoheyu",
        "colab_type": "text"
      },
      "source": [
        "Problema 11 \n",
        "Construir una cisterna rectangular\n",
        "Se va a construir una cisterna rectangular con base y tapa cuadradas para almacenar 12000𝑝𝑖𝑒𝑠3 de agua. Si el concreto para construir la base y los lados tiene un costo de 100 por 𝑝𝑖𝑒2 y el material para construir la tapa cuesta 200 por 𝑝𝑖𝑒2\n",
        "\n",
        "¿cuáles son las dimensiones de la cisterna que minimizan el costo de su construcción?\n",
        "\n",
        "¿Qué se quiere en el problema?\n",
        "\n",
        "Determinar las dimensiones de la cisterna que minimizan el costo de su construcción. Suponiendo que las dimensiones de la cisterna son: 𝑥 pies el lado de la base cuadrada y ℎ pies su altura.\n",
        "\n",
        "¿Cuál es el costo de su construcción?\n",
        "\n",
        "\n",
        "\n",
        "Para encontrar las dimensiones (𝑥 & ℎ) que minimizan el costo de su construcción se necesita la expresión del costo de la cisterna. Usamos la tabla siguiente:\n",
        "\n",
        "\n",
        "\n",
        "El costo total de la contrucción de la cisterna es:\n",
        "\n",
        "𝐶=300𝑥2+400𝑥ℎ pesos\n",
        "En el problema aparece la siguiente restricción: el volumen de la cisterna debe ser igual a 12000𝑝𝑖𝑒𝑠3, es decir, que 𝑥2ℎ=12000.\n",
        "\n",
        "Tenemos pues:\n",
        "\n",
        "Una función 𝐶=300𝑥2+400𝑥ℎ y una ecuación 𝑥2ℎ=12000. De la ecuación despejamos una de las variables (la que más convenga) para sustituirla en la función. Conviene despejar ℎ."
      ]
    },
    {
      "cell_type": "code",
      "metadata": {
        "id": "2MXwzld8hhT-",
        "colab_type": "code",
        "colab": {}
      },
      "source": [
        ""
      ],
      "execution_count": 0,
      "outputs": []
    },
    {
      "cell_type": "markdown",
      "metadata": {
        "id": "h52-wvLvhh3m",
        "colab_type": "text"
      },
      "source": [
        "Problema 12 \n",
        "Con el comienzo del curso se va a lanzar unas ofertas de material escolar. Unos almacenes quieren ofrecer 600 cuadernos, 500 carpetas y 400 bolígrafos para la oferta, empaquetándolo de dos formas distintas; en el primer bloque pondrá 2 cuadernos, 1 carpeta y 2 bolígrafos; en el segundo, pondrán 3 cuadernos, 1 carpeta y 1 bolígrafo. Los precios de cada paquete serán 6.5 y 7 €, respectivamente.\n",
        "\n",
        "¿Cuántos paquetes le conviene poner de cada tipo para obtener el máximo beneficio?"
      ]
    },
    {
      "cell_type": "code",
      "metadata": {
        "id": "wNKLuuYyhj9F",
        "colab_type": "code",
        "colab": {}
      },
      "source": [
        ""
      ],
      "execution_count": 0,
      "outputs": []
    },
    {
      "cell_type": "markdown",
      "metadata": {
        "id": "Suk0htdyhkLl",
        "colab_type": "text"
      },
      "source": [
        "Problema 13 \n",
        "Se dispone de 600 g de un determinado fármaco para elaborar pastillas grandes y pequeñas. Las grandes pesan 40 g y las pequeñas 30 g. Se necesitan al menos tres pastillas grandes, y al menos el doble de pequeñas que de las grandes. Cada pastilla grande proporciona un beneficio de 2 € y la pequeña de 1 €.\n",
        "\n",
        "¿Cuántas pastillas se han de elaborar de cada clase para que el beneficio sea máximo?"
      ]
    },
    {
      "cell_type": "code",
      "metadata": {
        "id": "rAif1-CNhlzz",
        "colab_type": "code",
        "colab": {}
      },
      "source": [
        ""
      ],
      "execution_count": 0,
      "outputs": []
    },
    {
      "cell_type": "markdown",
      "metadata": {
        "id": "6vvnI11uhmAj",
        "colab_type": "text"
      },
      "source": [
        "Problema 14 \n",
        "El conjunto de datos proviene del repositorio UCI Machine Learning y está relacionado con campañas de marketing directo (llamadas telefónicas) de una institución bancaria portuguesa.\n",
        "\n",
        "El objetivo de la clasificación es predecir si el cliente se suscribirá (1/0) a un depósito a plazo (variable y). El conjunto de datos se puede descargar desde aquí.\n",
        "\n",
        "https://raw.githubusercontent.com/madmashup/targeted-marketing-predictive-engine/master/banking.csv"
      ]
    },
    {
      "cell_type": "code",
      "metadata": {
        "id": "TVqCIv3_hqL-",
        "colab_type": "code",
        "outputId": "30573a79-a5d9-4c18-e0b2-36a139620ecf",
        "colab": {
          "base_uri": "https://localhost:8080/",
          "height": 471
        }
      },
      "source": [
        "import os\n",
        "import pandas as pd\n",
        "import numpy as np\n",
        "from sklearn.linear_model import LogisticRegression\n",
        "from sklearn.preprocessing import LabelEncoder\n",
        "from sklearn import preprocessing\n",
        "import matplotlib.pyplot as plt\n",
        "\n",
        "banking = pd.read_csv('banking.csv')\n",
        "print(banking.columns)"
      ],
      "execution_count": 0,
      "outputs": [
        {
          "output_type": "error",
          "ename": "FileNotFoundError",
          "evalue": "ignored",
          "traceback": [
            "\u001b[0;31m---------------------------------------------------------------------------\u001b[0m",
            "\u001b[0;31mFileNotFoundError\u001b[0m                         Traceback (most recent call last)",
            "\u001b[0;32m<ipython-input-1-a7ce6f6263e3>\u001b[0m in \u001b[0;36m<module>\u001b[0;34m()\u001b[0m\n\u001b[1;32m      7\u001b[0m \u001b[0;32mimport\u001b[0m \u001b[0mmatplotlib\u001b[0m\u001b[0;34m.\u001b[0m\u001b[0mpyplot\u001b[0m \u001b[0;32mas\u001b[0m \u001b[0mplt\u001b[0m\u001b[0;34m\u001b[0m\u001b[0;34m\u001b[0m\u001b[0m\n\u001b[1;32m      8\u001b[0m \u001b[0;34m\u001b[0m\u001b[0m\n\u001b[0;32m----> 9\u001b[0;31m \u001b[0mbanking\u001b[0m \u001b[0;34m=\u001b[0m \u001b[0mpd\u001b[0m\u001b[0;34m.\u001b[0m\u001b[0mread_csv\u001b[0m\u001b[0;34m(\u001b[0m\u001b[0;34m'banking.csv'\u001b[0m\u001b[0;34m)\u001b[0m\u001b[0;34m\u001b[0m\u001b[0;34m\u001b[0m\u001b[0m\n\u001b[0m\u001b[1;32m     10\u001b[0m \u001b[0mprint\u001b[0m\u001b[0;34m(\u001b[0m\u001b[0mbanking\u001b[0m\u001b[0;34m.\u001b[0m\u001b[0mcolumns\u001b[0m\u001b[0;34m)\u001b[0m\u001b[0;34m\u001b[0m\u001b[0;34m\u001b[0m\u001b[0m\n",
            "\u001b[0;32m/usr/local/lib/python3.6/dist-packages/pandas/io/parsers.py\u001b[0m in \u001b[0;36mparser_f\u001b[0;34m(filepath_or_buffer, sep, delimiter, header, names, index_col, usecols, squeeze, prefix, mangle_dupe_cols, dtype, engine, converters, true_values, false_values, skipinitialspace, skiprows, skipfooter, nrows, na_values, keep_default_na, na_filter, verbose, skip_blank_lines, parse_dates, infer_datetime_format, keep_date_col, date_parser, dayfirst, cache_dates, iterator, chunksize, compression, thousands, decimal, lineterminator, quotechar, quoting, doublequote, escapechar, comment, encoding, dialect, error_bad_lines, warn_bad_lines, delim_whitespace, low_memory, memory_map, float_precision)\u001b[0m\n\u001b[1;32m    674\u001b[0m         )\n\u001b[1;32m    675\u001b[0m \u001b[0;34m\u001b[0m\u001b[0m\n\u001b[0;32m--> 676\u001b[0;31m         \u001b[0;32mreturn\u001b[0m \u001b[0m_read\u001b[0m\u001b[0;34m(\u001b[0m\u001b[0mfilepath_or_buffer\u001b[0m\u001b[0;34m,\u001b[0m \u001b[0mkwds\u001b[0m\u001b[0;34m)\u001b[0m\u001b[0;34m\u001b[0m\u001b[0;34m\u001b[0m\u001b[0m\n\u001b[0m\u001b[1;32m    677\u001b[0m \u001b[0;34m\u001b[0m\u001b[0m\n\u001b[1;32m    678\u001b[0m     \u001b[0mparser_f\u001b[0m\u001b[0;34m.\u001b[0m\u001b[0m__name__\u001b[0m \u001b[0;34m=\u001b[0m \u001b[0mname\u001b[0m\u001b[0;34m\u001b[0m\u001b[0;34m\u001b[0m\u001b[0m\n",
            "\u001b[0;32m/usr/local/lib/python3.6/dist-packages/pandas/io/parsers.py\u001b[0m in \u001b[0;36m_read\u001b[0;34m(filepath_or_buffer, kwds)\u001b[0m\n\u001b[1;32m    446\u001b[0m \u001b[0;34m\u001b[0m\u001b[0m\n\u001b[1;32m    447\u001b[0m     \u001b[0;31m# Create the parser.\u001b[0m\u001b[0;34m\u001b[0m\u001b[0;34m\u001b[0m\u001b[0;34m\u001b[0m\u001b[0m\n\u001b[0;32m--> 448\u001b[0;31m     \u001b[0mparser\u001b[0m \u001b[0;34m=\u001b[0m \u001b[0mTextFileReader\u001b[0m\u001b[0;34m(\u001b[0m\u001b[0mfp_or_buf\u001b[0m\u001b[0;34m,\u001b[0m \u001b[0;34m**\u001b[0m\u001b[0mkwds\u001b[0m\u001b[0;34m)\u001b[0m\u001b[0;34m\u001b[0m\u001b[0;34m\u001b[0m\u001b[0m\n\u001b[0m\u001b[1;32m    449\u001b[0m \u001b[0;34m\u001b[0m\u001b[0m\n\u001b[1;32m    450\u001b[0m     \u001b[0;32mif\u001b[0m \u001b[0mchunksize\u001b[0m \u001b[0;32mor\u001b[0m \u001b[0miterator\u001b[0m\u001b[0;34m:\u001b[0m\u001b[0;34m\u001b[0m\u001b[0;34m\u001b[0m\u001b[0m\n",
            "\u001b[0;32m/usr/local/lib/python3.6/dist-packages/pandas/io/parsers.py\u001b[0m in \u001b[0;36m__init__\u001b[0;34m(self, f, engine, **kwds)\u001b[0m\n\u001b[1;32m    878\u001b[0m             \u001b[0mself\u001b[0m\u001b[0;34m.\u001b[0m\u001b[0moptions\u001b[0m\u001b[0;34m[\u001b[0m\u001b[0;34m\"has_index_names\"\u001b[0m\u001b[0;34m]\u001b[0m \u001b[0;34m=\u001b[0m \u001b[0mkwds\u001b[0m\u001b[0;34m[\u001b[0m\u001b[0;34m\"has_index_names\"\u001b[0m\u001b[0;34m]\u001b[0m\u001b[0;34m\u001b[0m\u001b[0;34m\u001b[0m\u001b[0m\n\u001b[1;32m    879\u001b[0m \u001b[0;34m\u001b[0m\u001b[0m\n\u001b[0;32m--> 880\u001b[0;31m         \u001b[0mself\u001b[0m\u001b[0;34m.\u001b[0m\u001b[0m_make_engine\u001b[0m\u001b[0;34m(\u001b[0m\u001b[0mself\u001b[0m\u001b[0;34m.\u001b[0m\u001b[0mengine\u001b[0m\u001b[0;34m)\u001b[0m\u001b[0;34m\u001b[0m\u001b[0;34m\u001b[0m\u001b[0m\n\u001b[0m\u001b[1;32m    881\u001b[0m \u001b[0;34m\u001b[0m\u001b[0m\n\u001b[1;32m    882\u001b[0m     \u001b[0;32mdef\u001b[0m \u001b[0mclose\u001b[0m\u001b[0;34m(\u001b[0m\u001b[0mself\u001b[0m\u001b[0;34m)\u001b[0m\u001b[0;34m:\u001b[0m\u001b[0;34m\u001b[0m\u001b[0;34m\u001b[0m\u001b[0m\n",
            "\u001b[0;32m/usr/local/lib/python3.6/dist-packages/pandas/io/parsers.py\u001b[0m in \u001b[0;36m_make_engine\u001b[0;34m(self, engine)\u001b[0m\n\u001b[1;32m   1112\u001b[0m     \u001b[0;32mdef\u001b[0m \u001b[0m_make_engine\u001b[0m\u001b[0;34m(\u001b[0m\u001b[0mself\u001b[0m\u001b[0;34m,\u001b[0m \u001b[0mengine\u001b[0m\u001b[0;34m=\u001b[0m\u001b[0;34m\"c\"\u001b[0m\u001b[0;34m)\u001b[0m\u001b[0;34m:\u001b[0m\u001b[0;34m\u001b[0m\u001b[0;34m\u001b[0m\u001b[0m\n\u001b[1;32m   1113\u001b[0m         \u001b[0;32mif\u001b[0m \u001b[0mengine\u001b[0m \u001b[0;34m==\u001b[0m \u001b[0;34m\"c\"\u001b[0m\u001b[0;34m:\u001b[0m\u001b[0;34m\u001b[0m\u001b[0;34m\u001b[0m\u001b[0m\n\u001b[0;32m-> 1114\u001b[0;31m             \u001b[0mself\u001b[0m\u001b[0;34m.\u001b[0m\u001b[0m_engine\u001b[0m \u001b[0;34m=\u001b[0m \u001b[0mCParserWrapper\u001b[0m\u001b[0;34m(\u001b[0m\u001b[0mself\u001b[0m\u001b[0;34m.\u001b[0m\u001b[0mf\u001b[0m\u001b[0;34m,\u001b[0m \u001b[0;34m**\u001b[0m\u001b[0mself\u001b[0m\u001b[0;34m.\u001b[0m\u001b[0moptions\u001b[0m\u001b[0;34m)\u001b[0m\u001b[0;34m\u001b[0m\u001b[0;34m\u001b[0m\u001b[0m\n\u001b[0m\u001b[1;32m   1115\u001b[0m         \u001b[0;32melse\u001b[0m\u001b[0;34m:\u001b[0m\u001b[0;34m\u001b[0m\u001b[0;34m\u001b[0m\u001b[0m\n\u001b[1;32m   1116\u001b[0m             \u001b[0;32mif\u001b[0m \u001b[0mengine\u001b[0m \u001b[0;34m==\u001b[0m \u001b[0;34m\"python\"\u001b[0m\u001b[0;34m:\u001b[0m\u001b[0;34m\u001b[0m\u001b[0;34m\u001b[0m\u001b[0m\n",
            "\u001b[0;32m/usr/local/lib/python3.6/dist-packages/pandas/io/parsers.py\u001b[0m in \u001b[0;36m__init__\u001b[0;34m(self, src, **kwds)\u001b[0m\n\u001b[1;32m   1889\u001b[0m         \u001b[0mkwds\u001b[0m\u001b[0;34m[\u001b[0m\u001b[0;34m\"usecols\"\u001b[0m\u001b[0;34m]\u001b[0m \u001b[0;34m=\u001b[0m \u001b[0mself\u001b[0m\u001b[0;34m.\u001b[0m\u001b[0musecols\u001b[0m\u001b[0;34m\u001b[0m\u001b[0;34m\u001b[0m\u001b[0m\n\u001b[1;32m   1890\u001b[0m \u001b[0;34m\u001b[0m\u001b[0m\n\u001b[0;32m-> 1891\u001b[0;31m         \u001b[0mself\u001b[0m\u001b[0;34m.\u001b[0m\u001b[0m_reader\u001b[0m \u001b[0;34m=\u001b[0m \u001b[0mparsers\u001b[0m\u001b[0;34m.\u001b[0m\u001b[0mTextReader\u001b[0m\u001b[0;34m(\u001b[0m\u001b[0msrc\u001b[0m\u001b[0;34m,\u001b[0m \u001b[0;34m**\u001b[0m\u001b[0mkwds\u001b[0m\u001b[0;34m)\u001b[0m\u001b[0;34m\u001b[0m\u001b[0;34m\u001b[0m\u001b[0m\n\u001b[0m\u001b[1;32m   1892\u001b[0m         \u001b[0mself\u001b[0m\u001b[0;34m.\u001b[0m\u001b[0munnamed_cols\u001b[0m \u001b[0;34m=\u001b[0m \u001b[0mself\u001b[0m\u001b[0;34m.\u001b[0m\u001b[0m_reader\u001b[0m\u001b[0;34m.\u001b[0m\u001b[0munnamed_cols\u001b[0m\u001b[0;34m\u001b[0m\u001b[0;34m\u001b[0m\u001b[0m\n\u001b[1;32m   1893\u001b[0m \u001b[0;34m\u001b[0m\u001b[0m\n",
            "\u001b[0;32mpandas/_libs/parsers.pyx\u001b[0m in \u001b[0;36mpandas._libs.parsers.TextReader.__cinit__\u001b[0;34m()\u001b[0m\n",
            "\u001b[0;32mpandas/_libs/parsers.pyx\u001b[0m in \u001b[0;36mpandas._libs.parsers.TextReader._setup_parser_source\u001b[0;34m()\u001b[0m\n",
            "\u001b[0;31mFileNotFoundError\u001b[0m: [Errno 2] File banking.csv does not exist: 'banking.csv'"
          ]
        }
      ]
    },
    {
      "cell_type": "code",
      "metadata": {
        "id": "fZ39ZYnzjY_V",
        "colab_type": "code",
        "colab": {}
      },
      "source": [
        "banking.head()"
      ],
      "execution_count": 0,
      "outputs": []
    },
    {
      "cell_type": "code",
      "metadata": {
        "id": "_T68BxDzjZPQ",
        "colab_type": "code",
        "colab": {}
      },
      "source": [
        "banking.rename(columns={'y':'willRespond'},inplace=True)"
      ],
      "execution_count": 0,
      "outputs": []
    },
    {
      "cell_type": "code",
      "metadata": {
        "id": "Dlh_Dlu0jZSY",
        "colab_type": "code",
        "colab": {}
      },
      "source": [
        "banking.shape"
      ],
      "execution_count": 0,
      "outputs": []
    },
    {
      "cell_type": "code",
      "metadata": {
        "id": "cUTYKLCSjZVV",
        "colab_type": "code",
        "colab": {}
      },
      "source": [
        "banking.columns"
      ],
      "execution_count": 0,
      "outputs": []
    },
    {
      "cell_type": "code",
      "metadata": {
        "id": "8pOKAXxWjZXN",
        "colab_type": "code",
        "colab": {}
      },
      "source": [
        "banking.drop(['duration','contact','month','day_of_week','default','pdays',],axis=1,inplace=True)"
      ],
      "execution_count": 0,
      "outputs": []
    },
    {
      "cell_type": "code",
      "metadata": {
        "id": "kfeI0gC9jZZ4",
        "colab_type": "code",
        "colab": {}
      },
      "source": [
        "banking.head()"
      ],
      "execution_count": 0,
      "outputs": []
    },
    {
      "cell_type": "code",
      "metadata": {
        "id": "dbU0XNNDjZb2",
        "colab_type": "code",
        "colab": {}
      },
      "source": [
        "banking.columns"
      ],
      "execution_count": 0,
      "outputs": []
    },
    {
      "cell_type": "code",
      "metadata": {
        "id": "M4mHUejDjZeu",
        "colab_type": "code",
        "colab": {}
      },
      "source": [
        "labels=banking.willRespond.values\n",
        "labels"
      ],
      "execution_count": 0,
      "outputs": []
    },
    {
      "cell_type": "code",
      "metadata": {
        "id": "bfEImIRBjZhy",
        "colab_type": "code",
        "colab": {}
      },
      "source": [
        "le=preprocessing.LabelEncoder()"
      ],
      "execution_count": 0,
      "outputs": []
    },
    {
      "cell_type": "code",
      "metadata": {
        "id": "4XYQalb4jZkd",
        "colab_type": "code",
        "colab": {}
      },
      "source": [
        "le.fit(banking.poutcome)"
      ],
      "execution_count": 0,
      "outputs": []
    },
    {
      "cell_type": "code",
      "metadata": {
        "id": "P4mVPrSgjiMJ",
        "colab_type": "code",
        "colab": {}
      },
      "source": [
        "banking.head(2)"
      ],
      "execution_count": 0,
      "outputs": []
    },
    {
      "cell_type": "code",
      "metadata": {
        "id": "BOinskApjiPC",
        "colab_type": "code",
        "colab": {}
      },
      "source": [
        "#se les asigna u valor numérico a cada uno de los posibles estados para cada columna\n",
        "banking.poutcome=le.transform(banking.poutcome)"
      ],
      "execution_count": 0,
      "outputs": []
    },
    {
      "cell_type": "code",
      "metadata": {
        "id": "YWtRvIjejiRf",
        "colab_type": "code",
        "colab": {}
      },
      "source": [
        "banking.head()"
      ],
      "execution_count": 0,
      "outputs": []
    },
    {
      "cell_type": "code",
      "metadata": {
        "id": "ffrSAYtBjiT2",
        "colab_type": "code",
        "colab": {}
      },
      "source": [
        "banking.housing = le.fit_transform(banking.housing)\n",
        "banking.loan=le.fit_transform(banking.loan)\n",
        "banking.head(2)"
      ],
      "execution_count": 0,
      "outputs": []
    },
    {
      "cell_type": "code",
      "metadata": {
        "id": "ADDE_bgGjiWf",
        "colab_type": "code",
        "colab": {}
      },
      "source": [
        "banking.job=le.fit_transform(banking.job)\n",
        "banking.marital=le.fit_transform(banking.marital)\n",
        "banking.education=le.fit_transform(banking.education)\n",
        "banking.head()"
      ],
      "execution_count": 0,
      "outputs": []
    },
    {
      "cell_type": "code",
      "metadata": {
        "id": "Wfpw6tNCjiZE",
        "colab_type": "code",
        "colab": {}
      },
      "source": [
        "plt.hist(banking.age)"
      ],
      "execution_count": 0,
      "outputs": []
    },
    {
      "cell_type": "code",
      "metadata": {
        "id": "rytRgXyNjibS",
        "colab_type": "code",
        "colab": {}
      },
      "source": [
        "banking['age'].describe()"
      ],
      "execution_count": 0,
      "outputs": []
    },
    {
      "cell_type": "code",
      "metadata": {
        "id": "jBOFn8x_jieR",
        "colab_type": "code",
        "colab": {}
      },
      "source": [
        "plt.scatter(banking.emp_var_rate,banking.age)"
      ],
      "execution_count": 0,
      "outputs": []
    },
    {
      "cell_type": "code",
      "metadata": {
        "id": "QTz1urIzjig8",
        "colab_type": "code",
        "colab": {}
      },
      "source": [
        "banking.apply(lambda x: len(x.unique()))"
      ],
      "execution_count": 0,
      "outputs": []
    },
    {
      "cell_type": "code",
      "metadata": {
        "id": "mrPUfVe5jilm",
        "colab_type": "code",
        "colab": {}
      },
      "source": [
        "banking.shape, banking['willRespond'].shape"
      ],
      "execution_count": 0,
      "outputs": []
    },
    {
      "cell_type": "code",
      "metadata": {
        "id": "V1yOeh6yjio3",
        "colab_type": "code",
        "colab": {}
      },
      "source": [
        "features = banking[['age','job','marital','education','housing','loan','poutcome','emp_var_rate','cons_price_idx','cons_conf_idx','euribor3m','nr_employed' ]]"
      ],
      "execution_count": 0,
      "outputs": []
    },
    {
      "cell_type": "code",
      "metadata": {
        "id": "qYdsZ7yljirG",
        "colab_type": "code",
        "colab": {}
      },
      "source": [
        "features.head()"
      ],
      "execution_count": 0,
      "outputs": []
    },
    {
      "cell_type": "code",
      "metadata": {
        "id": "JdtwvDg8jijM",
        "colab_type": "code",
        "colab": {}
      },
      "source": [
        "pd.get_dummies(features)"
      ],
      "execution_count": 0,
      "outputs": []
    },
    {
      "cell_type": "code",
      "metadata": {
        "id": "ex9_3WJEjvJN",
        "colab_type": "code",
        "colab": {}
      },
      "source": [
        "banking_dummies = pd.get_dummies(features,)\n",
        "banking_dummies.head()"
      ],
      "execution_count": 0,
      "outputs": []
    },
    {
      "cell_type": "code",
      "metadata": {
        "id": "9Wb2na8VjvMI",
        "colab_type": "code",
        "colab": {}
      },
      "source": [
        "banking_dummies.shape"
      ],
      "execution_count": 0,
      "outputs": []
    },
    {
      "cell_type": "code",
      "metadata": {
        "id": "tS0-HiG4jvPy",
        "colab_type": "code",
        "colab": {}
      },
      "source": [
        "banking_dummies.isna()"
      ],
      "execution_count": 0,
      "outputs": []
    },
    {
      "cell_type": "code",
      "metadata": {
        "id": "BwthjujAjvTu",
        "colab_type": "code",
        "colab": {}
      },
      "source": [
        "banking_dummies.isna().any()"
      ],
      "execution_count": 0,
      "outputs": []
    },
    {
      "cell_type": "code",
      "metadata": {
        "id": "e89N6Je1jvWl",
        "colab_type": "code",
        "colab": {}
      },
      "source": [
        "banking_dummies_train = banking_dummies.dropna()\n",
        "banking_dummies_train.isna().any()"
      ],
      "execution_count": 0,
      "outputs": []
    },
    {
      "cell_type": "code",
      "metadata": {
        "id": "j2z7yOpZjvbK",
        "colab_type": "code",
        "colab": {}
      },
      "source": [
        "labels_train = labels[banking_dummies_train.index]\n",
        "labels_train"
      ],
      "execution_count": 0,
      "outputs": []
    },
    {
      "cell_type": "code",
      "metadata": {
        "id": "PWXFPHJdjvfX",
        "colab_type": "code",
        "colab": {}
      },
      "source": [
        "banking_dummies_train.head()"
      ],
      "execution_count": 0,
      "outputs": []
    },
    {
      "cell_type": "code",
      "metadata": {
        "id": "M98RP4umjvdh",
        "colab_type": "code",
        "colab": {}
      },
      "source": [
        "# LogisticRegression"
      ],
      "execution_count": 0,
      "outputs": []
    },
    {
      "cell_type": "code",
      "metadata": {
        "id": "uszIibLgjvZo",
        "colab_type": "code",
        "colab": {}
      },
      "source": [
        "model = LogisticRegression(solver='lbfgs',max_iter=1000)"
      ],
      "execution_count": 0,
      "outputs": []
    },
    {
      "cell_type": "code",
      "metadata": {
        "id": "KJZ1OgQSj6ml",
        "colab_type": "code",
        "colab": {}
      },
      "source": [
        "model.fit(banking_dummies_train,labels_train)"
      ],
      "execution_count": 0,
      "outputs": []
    },
    {
      "cell_type": "code",
      "metadata": {
        "id": "iksUVpChj6p_",
        "colab_type": "code",
        "colab": {}
      },
      "source": [
        "labels_train #real"
      ],
      "execution_count": 0,
      "outputs": []
    },
    {
      "cell_type": "code",
      "metadata": {
        "id": "0k0lBJJ6j6u4",
        "colab_type": "code",
        "colab": {}
      },
      "source": [
        "model.predict(banking_dummies_train) # Predict"
      ],
      "execution_count": 0,
      "outputs": []
    },
    {
      "cell_type": "code",
      "metadata": {
        "id": "kpxZzc73j6yF",
        "colab_type": "code",
        "colab": {}
      },
      "source": [
        "true_predict = sum(model.predict(banking_dummies_train) ==  labels_train)\n",
        "true_predict"
      ],
      "execution_count": 0,
      "outputs": []
    },
    {
      "cell_type": "code",
      "metadata": {
        "id": "qH4TqxwZj62-",
        "colab_type": "code",
        "colab": {}
      },
      "source": [
        "true_ratio = sum(model.predict(banking_dummies_train) ==  labels_train) / (len(labels_train))\n",
        "true_ratio"
      ],
      "execution_count": 0,
      "outputs": []
    },
    {
      "cell_type": "code",
      "metadata": {
        "id": "B03-HflYj67E",
        "colab_type": "code",
        "colab": {}
      },
      "source": [
        "len(labels_train)"
      ],
      "execution_count": 0,
      "outputs": []
    },
    {
      "cell_type": "code",
      "metadata": {
        "id": "rZrQFJlQj69B",
        "colab_type": "code",
        "colab": {}
      },
      "source": [
        "true_predict/len(labels_train)"
      ],
      "execution_count": 0,
      "outputs": []
    },
    {
      "cell_type": "code",
      "metadata": {
        "id": "_qskgG1nj7CH",
        "colab_type": "code",
        "colab": {}
      },
      "source": [
        "print(\"logistic regression score: %f\" % model.score(banking_dummies_train, labels_train))"
      ],
      "execution_count": 0,
      "outputs": []
    },
    {
      "cell_type": "code",
      "metadata": {
        "id": "DMudkbEDj7E7",
        "colab_type": "code",
        "colab": {}
      },
      "source": [
        "from sklearn.model_selection import train_test_split"
      ],
      "execution_count": 0,
      "outputs": []
    },
    {
      "cell_type": "code",
      "metadata": {
        "id": "coD-TRetj7BI",
        "colab_type": "code",
        "colab": {}
      },
      "source": [
        "train_data, test_data, train_labels, test_labels = train_test_split(banking_dummies_train, labels_train,\n",
        "                                                                    random_state=0,test_size=0.33)"
      ],
      "execution_count": 0,
      "outputs": []
    },
    {
      "cell_type": "code",
      "metadata": {
        "id": "MOH0U8lZj61e",
        "colab_type": "code",
        "colab": {}
      },
      "source": [
        "train_data.shape,test_data.shape"
      ],
      "execution_count": 0,
      "outputs": []
    },
    {
      "cell_type": "code",
      "metadata": {
        "id": "GTtCmgUOj6tl",
        "colab_type": "code",
        "colab": {}
      },
      "source": [
        "model = LogisticRegression(solver='lbfgs',max_iter=500).fit(train_data,train_labels)\n",
        "\n",
        "print(\"Logistic regression score: %f\" % model.score(test_data,test_labels))"
      ],
      "execution_count": 0,
      "outputs": []
    },
    {
      "cell_type": "code",
      "metadata": {
        "id": "tLKppMsUkQ2x",
        "colab_type": "code",
        "colab": {}
      },
      "source": [
        "#labels = titanic.survived.values\n",
        "\n",
        "features = banking[['age','job','marital','education',\n",
        "                    'housing','loan','poutcome','emp_var_rate',\n",
        "                    'cons_price_idx','cons_conf_idx','euribor3m','nr_employed' ]]\n",
        "\n",
        "features = features.dropna()\n",
        "labels = labels[features.index]\n",
        "\n",
        "train_data, test_data, train_labels, test_labels = train_test_split(features, labels_train,\n",
        "                                                                    random_state=0,test_size=0.33)\n",
        "\n",
        "model = LogisticRegression(solver=\"lbfgs\",max_iter=500).fit(train_data, train_labels)\n",
        "print(\"logistic regression score: %f\" % model.score(test_data, test_labels))"
      ],
      "execution_count": 0,
      "outputs": []
    },
    {
      "cell_type": "code",
      "metadata": {
        "id": "ELzfYiQRkRAP",
        "colab_type": "code",
        "colab": {}
      },
      "source": [
        "test_data.head()"
      ],
      "execution_count": 0,
      "outputs": []
    },
    {
      "cell_type": "code",
      "metadata": {
        "id": "W99I1Q3nkRDm",
        "colab_type": "code",
        "colab": {}
      },
      "source": [
        "model.predict(test_data)"
      ],
      "execution_count": 0,
      "outputs": []
    },
    {
      "cell_type": "code",
      "metadata": {
        "id": "2JzvWfdNkRGa",
        "colab_type": "code",
        "colab": {}
      },
      "source": [
        ""
      ],
      "execution_count": 0,
      "outputs": []
    }
  ]
}